{
 "cells": [
  {
   "cell_type": "code",
   "execution_count": 1,
   "id": "f9b47dd6",
   "metadata": {},
   "outputs": [
    {
     "name": "stdout",
     "output_type": "stream",
     "text": [
      "too high\n"
     ]
    }
   ],
   "source": [
    "#4.1 \n",
    "\n",
    "secret = 3\n",
    "guess = 7\n",
    "if guess < 3:\n",
    "    print(\"too low\")\n",
    "elif guess > 3:\n",
    "    print(\"too high\")\n",
    "else:\n",
    "    print(\"just right\")\n"
   ]
  },
  {
   "cell_type": "code",
   "execution_count": 2,
   "id": "5e55e8f0",
   "metadata": {},
   "outputs": [
    {
     "name": "stdout",
     "output_type": "stream",
     "text": [
      "pea\n"
     ]
    }
   ],
   "source": [
    "#4.2\n",
    "\n",
    "small = True\n",
    "green = True\n",
    "\n",
    "if small and green:\n",
    "    print(\"pea\")\n",
    "elif small and not green:\n",
    "    print(\"cherry\")\n",
    "elif not small and green:\n",
    "    print(\"watermelon\")\n",
    "elif not small and not green:\n",
    "    print(\"pumpkin\")\n"
   ]
  },
  {
   "cell_type": "code",
   "execution_count": 3,
   "id": "08c061e5",
   "metadata": {},
   "outputs": [
    {
     "name": "stdout",
     "output_type": "stream",
     "text": [
      "3\n",
      "2\n",
      "1\n",
      "0\n"
     ]
    }
   ],
   "source": [
    "#6.1\n",
    "\n",
    "for n in [3,2,1,0]:\n",
    "    print (n)\n"
   ]
  },
  {
   "cell_type": "code",
   "execution_count": 4,
   "id": "6d63ad28",
   "metadata": {},
   "outputs": [
    {
     "name": "stdout",
     "output_type": "stream",
     "text": [
      "too low\n",
      "too low\n",
      "too low\n",
      "too low\n",
      "too low\n",
      "found it!\n"
     ]
    }
   ],
   "source": [
    "#6.3\n",
    "\n",
    "guess_me = 5\n",
    "for number in range(10):\n",
    "    if number < guess_me:\n",
    "        print(\"too low\")\n",
    "    elif number == guess_me:\n",
    "        print(\"found it!\")"
   ]
  },
  {
   "cell_type": "code",
   "execution_count": 5,
   "id": "1f2a8755",
   "metadata": {},
   "outputs": [],
   "source": [
    "#6.2 This will run, but I entered it as comments to avoid the file size of the loop output\n",
    "\n",
    "#guess_me = 7\n",
    "#number = 1\n",
    "#while True:\n",
    "    #if number < guess_me:\n",
    "        #print(\"too low\")\n",
    "    #elif number == guess_me:\n",
    "        #print(\"found it!\")\n",
    "        #break\n",
    "    #else:\n",
    "        #print(\"oops\")\n",
    "        #break\n",
    "        #number += 1"
   ]
  },
  {
   "cell_type": "code",
   "execution_count": null,
   "id": "db09fd64",
   "metadata": {},
   "outputs": [],
   "source": []
  }
 ],
 "metadata": {
  "kernelspec": {
   "display_name": "Python 3 (ipykernel)",
   "language": "python",
   "name": "python3"
  },
  "language_info": {
   "codemirror_mode": {
    "name": "ipython",
    "version": 3
   },
   "file_extension": ".py",
   "mimetype": "text/x-python",
   "name": "python",
   "nbconvert_exporter": "python",
   "pygments_lexer": "ipython3",
   "version": "3.11.5"
  }
 },
 "nbformat": 4,
 "nbformat_minor": 5
}
