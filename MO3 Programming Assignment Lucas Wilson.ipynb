{
 "cells": [
  {
   "cell_type": "code",
   "execution_count": 9,
   "id": "69bee262",
   "metadata": {},
   "outputs": [],
   "source": [
    "#7.4\n",
    "\n",
    "things= [\"mozzarella\", \"cinderella\", \"salmonella\"]"
   ]
  },
  {
   "cell_type": "code",
   "execution_count": 11,
   "id": "be9cbf1d",
   "metadata": {},
   "outputs": [
    {
     "name": "stdout",
     "output_type": "stream",
     "text": [
      "['mozzarella', 'Cinderella', 'salmonella']\n"
     ]
    }
   ],
   "source": [
    "#7.5\n",
    "\n",
    "things[1]= \"Cinderella\"\n",
    "print (things)\n",
    "\n",
    "#Changing the capitalization changed the element in the list to being capitalizaed"
   ]
  },
  {
   "cell_type": "code",
   "execution_count": 12,
   "id": "1d222441",
   "metadata": {},
   "outputs": [
    {
     "name": "stdout",
     "output_type": "stream",
     "text": [
      "['MOZZARELLA', 'Cinderella', 'salmonella']\n"
     ]
    }
   ],
   "source": [
    "#7.6\n",
    "\n",
    "things[0]= \"MOZZARELLA\"\n",
    "print (things)"
   ]
  },
  {
   "cell_type": "code",
   "execution_count": 13,
   "id": "1e375fd7",
   "metadata": {},
   "outputs": [
    {
     "name": "stdout",
     "output_type": "stream",
     "text": [
      "['MOZZARELLA', 'Cinderella']\n"
     ]
    }
   ],
   "source": [
    "#7.7\n",
    "\n",
    "things.remove (\"salmonella\")\n",
    "print (things)\n",
    "\n",
    "#Nobel Prize Collected"
   ]
  },
  {
   "cell_type": "code",
   "execution_count": 14,
   "id": "fc633012",
   "metadata": {},
   "outputs": [],
   "source": [
    "#9.1\n",
    "\n",
    "def good():\n",
    "    return [\"Harry\", \"Ron\", \"Hermione\"]\n",
    "\n"
   ]
  },
  {
   "cell_type": "code",
   "execution_count": 16,
   "id": "ac3a647c",
   "metadata": {},
   "outputs": [
    {
     "name": "stdout",
     "output_type": "stream",
     "text": [
      "5\n"
     ]
    }
   ],
   "source": [
    "#9.2\n",
    "\n",
    "def get_odds():\n",
    "    for number in range(10):\n",
    "        if number % 2 != 0:\n",
    "            yield number\n",
    "counter = 0\n",
    "for odd in get_odds():\n",
    "    if counter == 2:\n",
    "        print(odd)\n",
    "        break\n",
    "    counter += 1"
   ]
  },
  {
   "cell_type": "code",
   "execution_count": null,
   "id": "a6690af5",
   "metadata": {},
   "outputs": [],
   "source": []
  }
 ],
 "metadata": {
  "kernelspec": {
   "display_name": "Python 3 (ipykernel)",
   "language": "python",
   "name": "python3"
  },
  "language_info": {
   "codemirror_mode": {
    "name": "ipython",
    "version": 3
   },
   "file_extension": ".py",
   "mimetype": "text/x-python",
   "name": "python",
   "nbconvert_exporter": "python",
   "pygments_lexer": "ipython3",
   "version": "3.11.5"
  }
 },
 "nbformat": 4,
 "nbformat_minor": 5
}
