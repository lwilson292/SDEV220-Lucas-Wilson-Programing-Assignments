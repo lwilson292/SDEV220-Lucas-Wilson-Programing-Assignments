{
 "cells": [
  {
   "cell_type": "code",
   "execution_count": null,
   "id": "a6b0c5af",
   "metadata": {},
   "outputs": [
    {
     "name": "stdout",
     "output_type": "stream",
     "text": [
      "Please enter your last name: Wilson\n",
      "Please enter your first name: Luke\n",
      "Please enter your GPA: 2.9\n",
      "Please enter your last name: Smith\n",
      "Please enter your first name: Bobby\n",
      "Please enter your GPA: 3.9\n",
      "Bobby Smith, you have made the Dean's List. Congratulations!\n",
      "Please enter your last name: Wilson\n",
      "Please enter your first name: Phil\n",
      "Please enter your GPA: 4.0\n",
      "Phil Wilson, you have made the Dean's List. Congratulations!\n",
      "Please enter your last name: Morris\n",
      "Please enter your first name: Jonny\n",
      "Please enter your GPA: 2.3\n",
      "Please enter your last name: Rizzo\n",
      "Please enter your first name: Anthony\n",
      "Please enter your GPA: 3.3\n",
      "Anthony Rizzo, you have made the Honor Roll. Congratulations!\n",
      "Please enter your last name: LeMar\n",
      "Please enter your first name: Henry\n",
      "Please enter your GPA: 4.1\n",
      "Henry LeMar, you have made the Dean's List. Congratulations!\n"
     ]
    }
   ],
   "source": [
    "# Lucas Wilson\n",
    "# MO2 Lab Case Study\n",
    "# accept student names and GPAs then tell them if they qualify for Dean's List or Honor Roll\n",
    "\n",
    "while True:\n",
    "    last_name = input(\"Please enter your last name: \")\n",
    "    if last_name == \"ZZZ\":\n",
    "        break\n",
    "    first_name = input(\"Please enter your first name: \")\n",
    "    gpa = float(input(\"Please enter your GPA: \"))\n",
    "    if gpa >= 3.5:\n",
    "        print(f\"{first_name} {last_name}, you have made the Dean's List. Congratulations!\")\n",
    "    elif gpa >= 3.25:\n",
    "        print (f\"{first_name} {last_name}, you have made the Honor Roll. Congratulations!\")"
   ]
  },
  {
   "cell_type": "code",
   "execution_count": null,
   "id": "660da5fa",
   "metadata": {},
   "outputs": [],
   "source": []
  }
 ],
 "metadata": {
  "kernelspec": {
   "display_name": "Python 3 (ipykernel)",
   "language": "python",
   "name": "python3"
  },
  "language_info": {
   "codemirror_mode": {
    "name": "ipython",
    "version": 3
   },
   "file_extension": ".py",
   "mimetype": "text/x-python",
   "name": "python",
   "nbconvert_exporter": "python",
   "pygments_lexer": "ipython3",
   "version": "3.11.5"
  }
 },
 "nbformat": 4,
 "nbformat_minor": 5
}
